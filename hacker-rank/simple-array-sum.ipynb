{
 "cells": [
  {
   "cell_type": "markdown",
   "metadata": {},
   "source": [
    "# Simple Array Sum\n",
    "\n",
    "\n",
    "Given an array of integers, find the sum of its elements.\n",
    "\n",
    "For example, if the array `ar=[1,2,3], 1 + 2 + 3 = 6`, so return `6`\n",
    "\n",
    "## Function Description\n",
    "\n",
    "Complete the simpleArraySum function in the editor below. It must return the sum of the array elements as an integer.\n",
    "\n",
    "simpleArraySum has the following parameter(s):\n",
    "\n",
    "- ar: an array of integers\n",
    "\n",
    "## Input Format\n",
    "\n",
    "The first line contains an integer, `n`, denoting the size of the array.\n",
    "\n",
    "The second line contains `n` space-separated integers representing the array's elements.\n",
    "\n",
    "## Constraints\n",
    "\n",
    "```\n",
    "0 < n, ar[i] <= 1000\n",
    "```\n",
    "\n",
    "## Output Format\n",
    "\n",
    "Print the sum of the array's elements as a single integer.\n",
    "\n",
    "## Sample Input\n",
    "\n",
    "```\n",
    "6\n",
    "1 2 3 4 10 11\n",
    "```\n",
    "\n",
    "## Sample Output\n",
    "\n",
    "```\n",
    "31\n",
    "```\n",
    "\n",
    "## Explanation\n",
    "\n",
    "We print the sum of the array's elements: `1 + 2 + 3 + 4 + 10 + 11 = 31`.\n"
   ]
  },
  {
   "cell_type": "code",
   "execution_count": 20,
   "metadata": {},
   "outputs": [],
   "source": [
    "def simpleArraySum(ar):\n",
    "    \"\"\"\n",
    "    # Long way:\n",
    "    \n",
    "     output = 0   \n",
    "     for item in ar:\n",
    "         output += item\n",
    "     return sum(ar)\n",
    "    \"\"\"\n",
    "    # Syntax sugar\n",
    "    return sum(ar)"
   ]
  },
  {
   "cell_type": "code",
   "execution_count": 25,
   "metadata": {},
   "outputs": [],
   "source": [
    "assert simpleArraySum([10, 30, 2]) == 42\n",
    "assert simpleArraySum([1]) == 1\n",
    "assert simpleArraySum([1, 2, 3, 4]) == 10\n",
    "assert simpleArraySum([1, 2]) == 3\n",
    "assert simpleArraySum([1, 2, 3, 4, 10, 11]) == 31"
   ]
  }
 ],
 "metadata": {
  "kernelspec": {
   "display_name": "Python 3",
   "language": "python",
   "name": "python3"
  },
  "language_info": {
   "codemirror_mode": {
    "name": "ipython",
    "version": 3
   },
   "file_extension": ".py",
   "mimetype": "text/x-python",
   "name": "python",
   "nbconvert_exporter": "python",
   "pygments_lexer": "ipython3",
   "version": "3.7.4"
  }
 },
 "nbformat": 4,
 "nbformat_minor": 2
}
