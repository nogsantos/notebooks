{
 "cells": [
  {
   "cell_type": "markdown",
   "metadata": {},
   "source": [
    "Gary is an avid hiker. He tracks his hikes meticulously, paying close attention to small details like topography. During his last hike he took exactly `n` steps. For every step he took, he noted if it was an uphill,`U`, or a downhill, `D` step. Gary's hikes start and end at sea level and each step up or down represents a `1` unit change in altitude. We define the following terms:\n",
    "\n",
    "- A mountain is a sequence of consecutive steps above sea level, starting with a step up from sea level and ending with a step down to sea level.\n",
    "- A valley is a sequence of consecutive steps below sea level, starting with a step down from sea level and ending with a step up to sea level.\n",
    "\n",
    "Given Gary's sequence of up and down steps during his last hike, find and print the number of valleys he walked through.\n",
    "\n",
    "For example, if Gary's path is `s=[DDUUUUDD]`, he first enters a valley `2` units deep. Then he climbs out an up onto a mountain `2` units high. Finally, he returns to sea level and ends his hike.\n",
    "\n",
    "**Function Description**\n",
    "\n",
    "Complete the countingValleys function in the editor below. It must return an integer that denotes the number of valleys Gary traversed.\n",
    "\n",
    "countingValleys has the following parameter(s):\n",
    "\n",
    "- n: the number of steps Gary takes\n",
    "- s: a string describing his path\n",
    "\n",
    "**Input Format**\n",
    "\n",
    "The first line contains an integer `n`, the number of steps in Gary's hike.\n",
    "The second line contains a single string `8`, of `n` characters that describe his path.\n",
    "\n",
    "**Constraints**\n",
    "\n",
    "- `2 <= n <= 10^6`\n",
    "- `s[i] contains {UD}` \n",
    "\n",
    "**Output Format**\n",
    "\n",
    "Print a single integer that denotes the number of valleys Gary walked through during his hike.\n",
    "\n",
    "**Sample input**\n",
    "\n",
    "```\n",
    "8\n",
    "UDDDUDUU\n",
    "```\n",
    "\n",
    "**Sample Output**\n",
    "\n",
    "```\n",
    "1\n",
    "```\n",
    "\n",
    "**Explanation**\n",
    "\n",
    "If we represent _ as sea level, a step up as /, and a step down as \\, Gary's hike can be drawn as:\n",
    "\n",
    "```\n",
    "_/\\      _\n",
    "   \\    /\n",
    "    \\/\\/\n",
    "```\n",
    "He enters and leaves one valley.\n",
    "\n"
   ]
  },
  {
   "cell_type": "code",
   "execution_count": 133,
   "metadata": {},
   "outputs": [],
   "source": [
    "def counting_valley(n, s):\n",
    "    paths = list(s)\n",
    "    valeys = 0\n",
    "    step = 0    \n",
    "    \n",
    "    for path in paths:        \n",
    "        if path == 'U':\n",
    "            step += 1            \n",
    "        elif path == 'D':\n",
    "            step -= 1            \n",
    "            \n",
    "        if step == 0 and path == 'U':\n",
    "                valeys += 1\n",
    "    \n",
    "    return valeys\n",
    "    "
   ]
  },
  {
   "cell_type": "code",
   "execution_count": 135,
   "metadata": {},
   "outputs": [],
   "source": [
    "assert counting_valley(8, 'UDDDUDUU') == 1\n",
    "assert counting_valley(12, 'DDUUDDUDUUUD') == 2"
   ]
  }
 ],
 "metadata": {
  "kernelspec": {
   "display_name": "Python 3",
   "language": "python",
   "name": "python3"
  },
  "language_info": {
   "codemirror_mode": {
    "name": "ipython",
    "version": 3
   },
   "file_extension": ".py",
   "mimetype": "text/x-python",
   "name": "python",
   "nbconvert_exporter": "python",
   "pygments_lexer": "ipython3",
   "version": "3.7.4"
  }
 },
 "nbformat": 4,
 "nbformat_minor": 2
}
