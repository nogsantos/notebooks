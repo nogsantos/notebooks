{
 "cells": [
  {
   "cell_type": "markdown",
   "metadata": {},
   "source": [
    "John works at a clothing store. He has a large pile of socks that he must pair by color for sale. Given an array of integers representing the color of each sock, determine how many pairs of socks with matching colors there are.\n",
    "\n",
    "For example, there are `n = 7` socks with colors `ar=[1, 2, 1, 2, 1, 3, 2]` . There is one pair of color `1` and one of color `2`. There are three odd socks left, one of each color. The number of pairs is `2`.\n",
    "\n",
    "**Function Description**\n",
    "\n",
    "Complete the sockMerchant function in the editor below. It must return an integer representing the number of matching pairs of socks that are available.\n",
    "\n",
    "sockMerchant has the following parameter(s):\n",
    "\n",
    "- `n`: the number of socks in the pile\n",
    "- `ar`: the colors of each sock\n",
    "\n",
    "**Input Format**\n",
    "\n",
    "- The first line contains an integer , the number of socks represented in .\n",
    "- The second line contains  space-separated integers describing the colors  of the socks in the pile.\n",
    "\n",
    "**Constraints**\n",
    "\n",
    "- `1 <= n <= 100`\n",
    "- `1 <= ar[i] <= 100 where 0 <= i < n`\n",
    "\n",
    "\n",
    "**Output Format**\n",
    "\n",
    "Return the total number of matching pairs of socks that John can sell.\n",
    "\n",
    "**Sample Input**\n",
    "\n",
    "```console\n",
    "9\n",
    "10 20 20 10 10 30 50 10 20\n",
    "```\n",
    "\n",
    "**Sample Output**\n",
    "\n",
    "```console\n",
    "3\n",
    "```"
   ]
  },
  {
   "cell_type": "code",
   "execution_count": 93,
   "metadata": {},
   "outputs": [],
   "source": [
    "def sockMerchant(n, ar):\n",
    "    number_of_pairs = 0\n",
    "    pairs = []\n",
    "\n",
    "    for sock in ar:\n",
    "        if sock not in pairs:\n",
    "            pairs.append(sock)\n",
    "        else:\n",
    "            pairs.remove(sock)\n",
    "            number_of_pairs += 1\n",
    "\n",
    "    return number_of_pairs"
   ]
  },
  {
   "cell_type": "code",
   "execution_count": 94,
   "metadata": {},
   "outputs": [],
   "source": [
    "assert sockMerchant(9, [10, 20, 20, 10, 10, 30, 50, 10, 20]) == 3\n",
    "assert sockMerchant(5, [1, 2, 2, 1, 1]) == 2\n",
    "assert sockMerchant(10, [1, 1, 2, 2, 3, 3, 1, 1, 2, 2]) == 5\n",
    "assert sockMerchant(15, [6, 5, 2, 3, 5, 2, 2, 1, 1, 5, 1, 3, 3, 3, 5]) == 6\n",
    "assert sockMerchant(100,[50, 49, 38, 49, 78, 36, 25, 96, 10, 67, 78, 58, 98, 8, 53, 1, 4, 7, 29, 6, 59, 93, 74, 3, 67, 47, 12, 85, 84, 40, 81, 85, 89, 70, 33, 66, 6, 9, 13, 67, 75, 42, 24, 73, 49, 28, 25, 5, 86, 53, 10, 44, 45, 35, 47, 11, 81, 10, 47, 16, 49, 79, 52, 89, 100, 36, 6, 57, 96, 18, 23, 71, 11, 99, 95, 12, 78, 19, 16, 64, 23, 77, 7, 19, 11, 5, 81, 43, 14, 27, 11, 63, 57, 62, 3, 56, 50, 9, 13, 45]) == 28"
   ]
  }
 ],
 "metadata": {
  "kernelspec": {
   "display_name": "Django Shell-Plus",
   "language": "python",
   "name": "django_extensions"
  },
  "language_info": {
   "codemirror_mode": {
    "name": "ipython",
    "version": 3
   },
   "file_extension": ".py",
   "mimetype": "text/x-python",
   "name": "python",
   "nbconvert_exporter": "python",
   "pygments_lexer": "ipython3",
   "version": "3.7.4"
  }
 },
 "nbformat": 4,
 "nbformat_minor": 2
}
